{
 "cells": [
  {
   "cell_type": "markdown",
   "metadata": {},
   "source": [
    "## The Battle of Neighbourhoods"
   ]
  },
  {
   "cell_type": "markdown",
   "metadata": {},
   "source": [
    "### Business Proposal"
   ]
  },
  {
   "cell_type": "markdown",
   "metadata": {},
   "source": [
    "### Introduction"
   ]
  },
  {
   "cell_type": "markdown",
   "metadata": {},
   "source": [
    "The number of people wishing to or migrating to canada is increasing as the time passes. There are many reasons for this, some of them mentioned as: \n",
    "\n",
    "1.Canada is known for its diversity and inclusivity in other ways. \n",
    "\n",
    "2.It is also known for its ‘mosaic’ approach to multiculturalism, where people from all cultures live in harmony, while also maintaining their cultural heritage and religious practices. \n",
    "\n",
    "3.Canada spends more on education per capita than any other industrialized nation in the world and has been named the most educated country in the world. \n",
    "\n",
    "4.Despite having the 38th largest population in the world, Canada has the 10th largest economy\n",
    "\n",
    "These reasons are satisfying enough to make you want to migrate to a country. Since you are going to a different country, you wll be wanting to have the best of facilities in around your town or neighbourhood which will be the aim of the project."
   ]
  },
  {
   "cell_type": "markdown",
   "metadata": {},
   "source": [
    "### Project Description"
   ]
  },
  {
   "cell_type": "markdown",
   "metadata": {},
   "source": [
    "The purpose of this Project is to help people exploring better facilities around their neighborhood. Lots of people are migrating to various states of Canada and hence, ofcourse, they search for the area having facilities and good schools for their children. The project is for them to have an area having the ease of accessing to Cafe, School, Super market, medical shops, grocery shops, mall, theatre, hospital etc.\n",
    "\n",
    "The project will aim to analyse the features for the person migrating to have a better comparison of the neighbourhoods. The features will include house prices, school ratings, crime reported, road connectivity, hospitals, weather conditions, water resources, sewers etc.\n",
    "\n",
    "The project will help them have an idea of the area or neighbourhood that they want to move and help the compare different neighbourhoods easily.\n",
    "\n",
    "The main purpose of this project is to suggest a better neighbourhood, or atleast a way to compare different neighbourhoods, to the person who wishes to migrate to Canada. "
   ]
  },
  {
   "cell_type": "markdown",
   "metadata": {},
   "source": [
    "### Target Audience"
   ]
  },
  {
   "cell_type": "markdown",
   "metadata": {},
   "source": [
    "Target Audience for this project will be those people who are going to migrate to Canada.\n",
    "Some people can compromise schools over housing price or vice versa. There are different priorities for different people. Analysing these priorities will be the aim of the project."
   ]
  }
 ],
 "metadata": {
  "kernelspec": {
   "display_name": "Python 3",
   "language": "python",
   "name": "python3"
  },
  "language_info": {
   "codemirror_mode": {
    "name": "ipython",
    "version": 3
   },
   "file_extension": ".py",
   "mimetype": "text/x-python",
   "name": "python",
   "nbconvert_exporter": "python",
   "pygments_lexer": "ipython3",
   "version": "3.7.6"
  }
 },
 "nbformat": 4,
 "nbformat_minor": 4
}
